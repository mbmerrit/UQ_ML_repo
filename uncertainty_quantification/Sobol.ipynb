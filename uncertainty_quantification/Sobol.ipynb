{
 "cells": [
  {
   "cell_type": "markdown",
   "metadata": {},
   "source": [
    "# Sobol Index Calculator for Scalar-Valued Functions\n",
    "\n",
    "Given a scalar-valued function of uncertain parameters, $f(X)$ for $X \\in \\mathbb{R}^p$, we are interested in measuring the parametric sensitivity of $f(X)$ with respect to subsets of the parameters in $X$. Given that $f(X)$ is square integrable and the parameters are independent, we may use the [ANOVA decomposition](http://www.broda.co.uk/gsa/sobol_global_sa.pdf) to define the first order and total Sobol' indices of $f(X)$ as follows,\n",
    "\n",
    "$$S_i = \\frac{V(E(f(X) ~|~ X_i))}{V(f(X))} \\quad \\text{and} \\quad T_i = \\frac{E(V(f(X) ~|~ X_{\\neq i}))}{V(f(X))},$$\n",
    "\n",
    "where $S_i$ can be considered a measure of the sensitivity of $f(X)$ with respect to just parameter $i$ and $T_i$ measures the sensitivity of $f(X)$ with respect to every subset of the parameters that contains $X_i$. Since the Sobol' indices are defined in terms of integral operators, one technique that can be used to approximate them is Monte-Carlo integration. We will implement an algorithm that can compute both first order and total Sobol' indices at a cost of $N(p+2)$ function evaluations, where $N$ is the number of samples desired. \n",
    "\n",
    "It is standard practice to sample the parameters uniformly on an interval given by the nominal parameter plus or minus some percent of the parameter value (this percentage will be left as a input). The other necessary inputs will be a function, $f$, that can be evaluated, nominal values for each of the parameters, and $N$. "
   ]
  },
  {
   "cell_type": "code",
   "execution_count": 19,
   "metadata": {},
   "outputs": [],
   "source": [
    "import numpy as np\n",
    "import numpy.matlib as npmat\n",
    "import numpy.random as nprand\n",
    "import matplotlib.pyplot as plt"
   ]
  },
  {
   "cell_type": "code",
   "execution_count": 20,
   "metadata": {},
   "outputs": [],
   "source": [
    "# The main function for the SI calculator, calls to other lower level functions\n",
    "def get_sobol_indices(f, x_nom, N, percent):\n",
    "    \"\"\" \n",
    "    Given a scalar-valued function f, nominal parameters, number or samples, \n",
    "    and width of uniform sampling interval. Computation progress will be given during function\n",
    "    evaluations. \n",
    "    \n",
    "    N must be a integer, percent should be kept in the interval (0,100]\n",
    "    \"\"\"\n",
    "    \n",
    "    p = len(x_nom) # number of parameters\n",
    "    a = x_nom - (percent/100)*x_nom\n",
    "    b = x_nom + (percent/100)*x_nom             # this block computes the matrices of parameter samples\n",
    "    XA = -1 + 2*nprand.rand(N, p)    \n",
    "    XB = -1 + 2*nprand.rand(N, p)\n",
    "    A = npmat.repmat(0.5*(a+b),N,1) + 0.5*(b-a)*XA\n",
    "    B = npmat.repmat(0.5*(a+b),N,1) + 0.5*(b-a)*XB\n",
    "    \n",
    "    # Now we evaluate the function at the parameter samples\n",
    "    qA = f(A)\n",
    "    print('progress: ',(1/(p+2))*100,'%')\n",
    "    qB = f(B)\n",
    "    print('progress: ',(2/(p+2))*100,'%')\n",
    "    qC = np.zeros([N,p])\n",
    "    for k in range(p):  # this substitutes one column of B into each A, then evaluates\n",
    "        C = np.copy(A);\n",
    "        C[:,k] = B[:,k]  # here you are varying one parameter at a time\n",
    "        qC[:,k] = f(C) \n",
    "        print('progress: ',((k+3)/(p+2))*100,'%')\n",
    "        \n",
    "    [S, T] = compute_indices(qA, qB, qC)\n",
    "    \n",
    "    return S, T   # Outputs are vectors of first order and total indices\n",
    "    "
   ]
  },
  {
   "cell_type": "markdown",
   "metadata": {},
   "source": [
    "A little more information on what is happening here: typically when computing Sobol indices', there are matrices storing function evaluaitons, we typically call them A, B, and C. A and B are just matrices storing parameter samples, ideally different samples. Then C is built by taking A (or B) and iteratively evaluating the function, while interchanging one parameter or column at a times with B (or A). To compute variance, we look at the difference between f(A) and f(C), changing out a row of A at a time. For a more thorough explanation, see the calculation section of [this article](https://en.wikipedia.org/wiki/Variance-based_sensitivity_analysis).\n",
    "\n",
    "There are a host of statistical estimators for Sobol' indices to be found in the literature. The estimators used in this implementation can be found in several places, including the work of Saltelli. [Here's a paper that compares several different estimators](https://www.sciencedirect.com/science/article/pii/S0010465509003087)."
   ]
  },
  {
   "cell_type": "code",
   "execution_count": 4,
   "metadata": {},
   "outputs": [],
   "source": [
    "def compute_indices(qA, qB, qC):\n",
    "    \"\"\"\n",
    "    This function takes parameter samples from function evalutations and uses them \n",
    "    to estimate Sobol' indices (first order and total)\n",
    "    \"\"\"\n",
    "    \n",
    "    [N,p] = qC.shape\n",
    "    mu_qA = np.mean(qA)\n",
    "    mu_qB = np.mean(qB)\n",
    "    Var_Y = (1/2)*np.mean( (qA-mu_qA)**2 + (qB-mu_qB)**2 )\n",
    "\n",
    "    # Estimate Sobol' indices\n",
    "    S = np.zeros(p)\n",
    "    T = np.zeros(p)\n",
    "    for j in range(p):\n",
    "        S[j] = np.mean( qB*(qC[:,j]-qA) )/Var_Y\n",
    "        T[j] = (1/2)*np.mean( (qA - qC[:,j])**2 )/Var_Y \n",
    "    \n",
    "    return S, T"
   ]
  },
  {
   "cell_type": "markdown",
   "metadata": {},
   "source": [
    "## Validation\n",
    "\n",
    "Let's compute the Sobol indices of a simple toy model:\n",
    "\n",
    "$$f(x_1, x_2, x_3) = ax_1 + bx_1x_2 + cx_2x_3$$\n",
    "\n",
    "We will start by choosing specific values for the coefficients, say $a = 3, b = 10, c = 24$. Let all uncertain parameters be uniformly distributed in the interval $[0,1]$, meaning $x_i \\sim U(0,1)$. Then we want to verify that our Sobol' index calculator is getting correct results. For this model, we will begin by analytically computing the indices and then test how fast our Monte-Carlo algorithm converges. To compute these indices, we will use the symbolic tools provided by Sympy to evaluate those integrals exactly."
   ]
  },
  {
   "cell_type": "code",
   "execution_count": 6,
   "metadata": {},
   "outputs": [],
   "source": [
    "import sympy as sp"
   ]
  },
  {
   "cell_type": "code",
   "execution_count": 7,
   "metadata": {},
   "outputs": [],
   "source": [
    "def f(x_1, x_2, x_3):  # define the symbolic function\n",
    "    return 3*x_1 + 10*x_1*x_2 + 24*x_2*x_3 \n",
    "\n",
    "x_1 = sp.Symbol('x_1')\n",
    "x_2 = sp.Symbol('x_2')\n",
    "x_3 = sp.Symbol('x_3')"
   ]
  },
  {
   "cell_type": "markdown",
   "metadata": {},
   "source": [
    "We will begin to build the ANOVA decomposition of $f$ using the following recursive formulas:\n",
    "\n",
    "$$     f_0 = \\mathbb{E}[f(X)], \\nonumber \\\\\n",
    "    f_i(X_i) = \\mathbb{E}[f(X)|X_i] - f_0, \\nonumber \\\\ \n",
    "        f_{i,j}(X_i,X_j) = \\mathbb{E}[f(X)|X_i,X_j] - f_i - f_j - f_0, ~... \\nonumber\n",
    "        $$\n",
    "    \n",
    "where we will compute all terms in the ANOVA (including higher order), to compute the full spectrum of Sobol' indices. This will be done to show that all Sobol' indices do indeed add to 1, although we will only compute first order and total numerically. The reason why we won't compute high order Sobol' indices numerically is that computing higher order indices increases the cost of sampling binomially in the index of the order you want to estimate. For many applications, these higher order indices tend to approach zero rapidly. We will show analytically that this fast decay of higher order indices applies in this case.   "
   ]
  },
  {
   "cell_type": "code",
   "execution_count": 8,
   "metadata": {},
   "outputs": [
    {
     "name": "stdout",
     "output_type": "stream",
     "text": [
      "f0 =  10\n",
      "f1 =  8*x_1 - 4\n",
      "f2 =  17*x_2 - 17/2\n",
      "f3 =  12*x_3 - 6\n"
     ]
    }
   ],
   "source": [
    "# constant and first order terms\n",
    "f0 = sp.integrate(f(x_1, x_2, x_3), (x_1, 0, 1), (x_2, 0, 1), (x_3, 0 , 1))\n",
    "f1 = sp.integrate(f(x_1, x_2, x_3), (x_2, 0, 1), (x_3, 0 , 1)) - f0\n",
    "f2 = sp.integrate(f(x_1, x_2, x_3), (x_1, 0, 1), (x_3, 0 , 1)) - f0\n",
    "f3 = sp.integrate(f(x_1, x_2, x_3), (x_1, 0, 1), (x_2, 0, 1)) - f0\n",
    "print('f0 = ', f0)\n",
    "print('f1 = ', f1)\n",
    "print('f2 = ', f2)\n",
    "print('f3 = ', f3)"
   ]
  },
  {
   "cell_type": "code",
   "execution_count": 9,
   "metadata": {},
   "outputs": [
    {
     "name": "stdout",
     "output_type": "stream",
     "text": [
      "f12 =  10*x_1*x_2 - 5*x_1 - 5*x_2 + 5/2\n",
      "f23 =  24*x_2*x_3 - 12*x_2 - 12*x_3 + 6\n",
      "f13 =  0\n",
      "f123 =  0\n"
     ]
    }
   ],
   "source": [
    "# Second and third order terms\n",
    "f12 = sp.integrate(f(x_1, x_2, x_3), (x_3, 0 , 1)) - f0 - f1 -f2\n",
    "f23 = sp.integrate(f(x_1, x_2, x_3), (x_1, 0, 1)) - f0 - f2 -f3\n",
    "f13 = sp.integrate(f(x_1, x_2, x_3), (x_2, 0, 1)) - f0 - f1 - f3\n",
    "f123 = f(x_1, x_2, x_3) - f12 - f23 - f13 - f1 - f2 - f3 - f0\n",
    "print('f12 = ', f12)\n",
    "print('f23 = ', f23)\n",
    "print('f13 = ', f13)\n",
    "print('f123 = ', f123)"
   ]
  },
  {
   "cell_type": "code",
   "execution_count": 10,
   "metadata": {},
   "outputs": [
    {
     "data": {
      "text/latex": [
       "$\\displaystyle 10 x_{1} x_{2} + 3 x_{1} + 24 x_{2} x_{3}$"
      ],
      "text/plain": [
       "10*x_1*x_2 + 3*x_1 + 24*x_2*x_3"
      ]
     },
     "execution_count": 10,
     "metadata": {},
     "output_type": "execute_result"
    }
   ],
   "source": [
    "# Finally, as a sanity check, we want to show that the sum of all terms in the ANOVA is the original function\n",
    "fun = f0 + f1 + f2 + f3 + f12 + f23 + f13 + f123\n",
    "fun\n",
    "\n",
    "# Great!"
   ]
  },
  {
   "cell_type": "code",
   "execution_count": 11,
   "metadata": {},
   "outputs": [
    {
     "name": "stdout",
     "output_type": "stream",
     "text": [
      "415/9\n",
      "415/9\n"
     ]
    }
   ],
   "source": [
    "# Now we compute the variances needed for Sobol' indices\n",
    "VarY = sp.integrate(fun**2, (x_1, 0, 1), (x_2, 0, 1), (x_3, 0, 1)) - f0**2\n",
    "V1 = sp.integrate(f1**2, (x_1, 0, 1))\n",
    "V2 = sp.integrate(f2**2, (x_2, 0, 1))\n",
    "V3 = sp.integrate(f3**2, (x_3, 0, 1))\n",
    "V12 = sp.integrate(f12**2, (x_1, 0, 1), (x_2, 0, 1))\n",
    "V23 = sp.integrate(f23**2, (x_2, 0, 1), (x_3, 0, 1))\n",
    "V13 = sp.integrate(f13**2, (x_1, 0, 1), (x_3, 0, 1))\n",
    "V123 = sp.integrate(f123**2, (x_1, 0, 1), (x_2, 0, 1), (x_3, 0, 1))\n",
    "\n",
    "# Now the variance of all lower order terms should equal the variance of the whole function\n",
    "print(V1 + V2 + V3 + V12 + V23 + V13 + V123)\n",
    "print(VarY)"
   ]
  },
  {
   "cell_type": "code",
   "execution_count": 28,
   "metadata": {},
   "outputs": [
    {
     "name": "stdout",
     "output_type": "stream",
     "text": [
      "S_1 =  48/415 =  0.11566265060240964\n",
      "S_2 =  867/1660 =  0.522289156626506\n",
      "S_3 =  108/415 =  0.26024096385542167\n",
      "T_1 =  217/1660 =  0.13072289156626507\n",
      "T_2 =  259/415 =  0.6240963855421687\n",
      "T_3 =  144/415 =  0.3469879518072289\n",
      "Sum of all higher order indices:  169/1660\n"
     ]
    }
   ],
   "source": [
    "# Finally, to compute Sobol' indices, just compute the ratio of partial to total variance\n",
    "# First order indices\n",
    "S1 = V1/VarY; S2 = V2/VarY; S3 = V3/VarY\n",
    "print('S_1 = ', S1, '= ', float(S1))\n",
    "print('S_2 = ', S2, '= ', float(S2))\n",
    "print('S_3 = ', S3, '= ', float(S3))\n",
    "\n",
    "# Total indices\n",
    "T1 = (V1 + V12 + V13 + V123)/VarY; T2 = (V2 + V12 + V23 + V123)/VarY; T3 = (V3 + V23 + V13 + V123)/VarY;\n",
    "print('T_1 = ', T1, '= ', float(T1))\n",
    "print('T_2 = ', T2, '= ', float(T2))\n",
    "print('T_3 = ', T3, '= ', float(T3))\n",
    "\n",
    "# Just to show the rapid decay of higher order indices, let's just sum all contributions larger than first order\n",
    "print('Sum of all higher order indices: ',(V12 + V13 + V23 + V123)/VarY)"
   ]
  },
  {
   "cell_type": "markdown",
   "metadata": {},
   "source": [
    "As we can see, the sum of all the higher order indices only accounts for 10% of the total variance in the function. Now let's show that our Sobol' calculator can numerically approximate the true values which we have stored in memory. I will start by making a vectorized version of f, then call my function. "
   ]
  },
  {
   "cell_type": "code",
   "execution_count": 13,
   "metadata": {},
   "outputs": [],
   "source": [
    "def F(x):\n",
    "    return 10*x[:,0]*x[:,1] + 3*x[:,0] + 24*x[:,1]*x[:,2]"
   ]
  },
  {
   "cell_type": "code",
   "execution_count": 14,
   "metadata": {},
   "outputs": [
    {
     "name": "stdout",
     "output_type": "stream",
     "text": [
      "progress:  20.0 %\n",
      "progress:  40.0 %\n",
      "progress:  60.0 %\n",
      "progress:  80.0 %\n",
      "progress:  100.0 %\n"
     ]
    }
   ],
   "source": [
    "x_nom = np.array([0.5,0.5,0.5])  # This way of specifying nominal parameters will make all parameters in U[0,1]\n",
    "[S, T] = get_sobol_indices(F, x_nom, int(1e6), 100) # Try one million samples"
   ]
  },
  {
   "cell_type": "markdown",
   "metadata": {},
   "source": [
    "Now we can verify if the symbolic results agree with the numerical results. We will compute it in terms of absolute error."
   ]
  },
  {
   "cell_type": "code",
   "execution_count": 15,
   "metadata": {},
   "outputs": [
    {
     "name": "stdout",
     "output_type": "stream",
     "text": [
      "first order SI error:  6.169772628210335e-05 0.001835943684322494 0.001864587344489188\n",
      "total SI error:  0.00016057275745354205 0.00033031987350318204 0.00029588440936134663\n"
     ]
    }
   ],
   "source": [
    "err_S1 = abs(float(S1) - S[0])\n",
    "err_S2 = abs(float(S2) - S[1])\n",
    "err_S3 = abs(float(S3) - S[2])\n",
    "print('first order SI error: ',err_S1, err_S2, err_S3)\n",
    "\n",
    "err_T1 = abs(float(T1) - T[0])\n",
    "err_T2 = abs(float(T2) - T[1])\n",
    "err_T3 = abs(float(T3) - T[2])\n",
    "print('total SI error: ',err_T1, err_T2, err_T3)"
   ]
  },
  {
   "cell_type": "markdown",
   "metadata": {},
   "source": [
    "So it appears that for $10^6$ samples, the absolute error in Sobol' indices is approximately $\\leq 10^{-3}$, depending on which index we're looking at. We will plot the error reduction as a function of the number of samples, $N$. If things are working properly, this should look like Monte-Carlo convergence, which is $O(\\sqrt{N})$."
   ]
  },
  {
   "cell_type": "code",
   "execution_count": 16,
   "metadata": {},
   "outputs": [
    {
     "name": "stdout",
     "output_type": "stream",
     "text": [
      "progress:  20.0 %\n",
      "progress:  40.0 %\n",
      "progress:  60.0 %\n",
      "progress:  80.0 %\n",
      "progress:  100.0 %\n",
      "progress:  20.0 %\n",
      "progress:  40.0 %\n",
      "progress:  60.0 %\n",
      "progress:  80.0 %\n",
      "progress:  100.0 %\n",
      "progress:  20.0 %\n",
      "progress:  40.0 %\n",
      "progress:  60.0 %\n",
      "progress:  80.0 %\n",
      "progress:  100.0 %\n",
      "progress:  20.0 %\n",
      "progress:  40.0 %\n",
      "progress:  60.0 %\n",
      "progress:  80.0 %\n",
      "progress:  100.0 %\n",
      "progress:  20.0 %\n",
      "progress:  40.0 %\n",
      "progress:  60.0 %\n",
      "progress:  80.0 %\n",
      "progress:  100.0 %\n",
      "progress:  20.0 %\n",
      "progress:  40.0 %\n",
      "progress:  60.0 %\n",
      "progress:  80.0 %\n",
      "progress:  100.0 %\n",
      "progress:  20.0 %\n",
      "progress:  40.0 %\n",
      "progress:  60.0 %\n",
      "progress:  80.0 %\n",
      "progress:  100.0 %\n",
      "progress:  20.0 %\n",
      "progress:  40.0 %\n",
      "progress:  60.0 %\n",
      "progress:  80.0 %\n",
      "progress:  100.0 %\n",
      "progress:  20.0 %\n",
      "progress:  40.0 %\n",
      "progress:  60.0 %\n",
      "progress:  80.0 %\n",
      "progress:  100.0 %\n",
      "progress:  20.0 %\n",
      "progress:  40.0 %\n",
      "progress:  60.0 %\n",
      "progress:  80.0 %\n",
      "progress:  100.0 %\n"
     ]
    }
   ],
   "source": [
    "N_idx = np.floor(np.logspace(1,7,10)) # we will choose logarithmically spaced samples\n",
    "S_idx = np.zeros([len(N_idx),len(x_nom)]); T_idx = np.zeros([len(N_idx),len(x_nom)])\n",
    "for i in range(len(N_idx)):\n",
    "    [S_idx[i,:], T_idx[i,:]] = get_sobol_indices(F, x_nom, int(N_idx[i]), 100)\n",
    "    \n",
    "S_err = S_idx - np.matlib.repmat(S, len(N_idx),1) \n",
    "T_err = T_idx - np.matlib.repmat(T, len(N_idx),1)"
   ]
  },
  {
   "cell_type": "code",
   "execution_count": 17,
   "metadata": {},
   "outputs": [
    {
     "data": {
      "text/plain": [
       "Text(0.5, 1.0, 'Error in First Order Sobol Indices vs # of samples')"
      ]
     },
     "execution_count": 17,
     "metadata": {},
     "output_type": "execute_result"
    },
    {
     "data": {
      "image/png": "[encoded data removed]",
      "text/plain": [
       "<Figure size 432x288 with 1 Axes>"
      ]
     },
     "metadata": {
      "needs_background": "light"
     },
     "output_type": "display_data"
    }
   ],
   "source": [
    "# Plot the error as a function of the number of samples\n",
    "\n",
    "plt.semilogx(N_idx, S_err, '-o')\n",
    "plt.grid('True')\n",
    "plt.xlabel('Samples (N)')\n",
    "plt.ylabel('Sobol Error')\n",
    "plt.legend('123')\n",
    "plt.title('Error in First Order Sobol Indices vs # of samples')"
   ]
  },
  {
   "cell_type": "code",
   "execution_count": 18,
   "metadata": {},
   "outputs": [
    {
     "data": {
      "text/plain": [
       "Text(0.5, 1.0, 'Error in Total Sobol Indices vs # of samples')"
      ]
     },
     "execution_count": 18,
     "metadata": {},
     "output_type": "execute_result"
    },
    {
     "data": {
      "image/png": "[encoded data removed]",
      "text/plain": [
       "<Figure size 432x288 with 1 Axes>"
      ]
     },
     "metadata": {
      "needs_background": "light"
     },
     "output_type": "display_data"
    }
   ],
   "source": [
    "plt.semilogx(N_idx, T_err, '-o')\n",
    "plt.grid('True')\n",
    "plt.xlabel('Samples (N)')\n",
    "plt.ylabel('Sobol Error')\n",
    "plt.legend('123')\n",
    "plt.title('Error in Total Sobol Indices vs # of samples')"
   ]
  },
  {
   "cell_type": "code",
   "execution_count": null,
   "metadata": {},
   "outputs": [],
   "source": []
  }
 ],
 "metadata": {
  "kernelspec": {
   "display_name": "Python 3",
   "language": "python",
   "name": "python3"
  },
  "language_info": {
   "codemirror_mode": {
    "name": "ipython",
    "version": 3
   },
   "file_extension": ".py",
   "mimetype": "text/x-python",
   "name": "python",
   "nbconvert_exporter": "python",
   "pygments_lexer": "ipython3",
   "version": "3.7.6"
  }
 },
 "nbformat": 4,
 "nbformat_minor": 2
}
