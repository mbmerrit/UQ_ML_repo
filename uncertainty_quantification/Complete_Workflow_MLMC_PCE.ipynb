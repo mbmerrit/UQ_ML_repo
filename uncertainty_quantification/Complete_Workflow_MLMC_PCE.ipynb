{
 "cells": [
  {
   "cell_type": "code",
   "execution_count": 1,
   "metadata": {},
   "outputs": [],
   "source": [
    "import numpy as np\n",
    "import matplotlib.pyplot as plt\n",
    "\n",
    "import PCE_module as p\n",
    "import TestFunctions as testf\n",
    "import MLMC_module as mlmc\n",
    "import scipy.optimize as scopt"
   ]
  },
  {
   "cell_type": "code",
   "execution_count": 2,
   "metadata": {},
   "outputs": [],
   "source": [
    "#\n",
    "## Definition of function module\n",
    "#\n",
    "Ishigami = mlmc.Multi_Level_Model('Ishigami')\n",
    "Ishigami.basis = 'legendre'\n",
    "Ishigami.basis_params = np.array([-np.pi, np.pi])\n",
    "Ishigami.variables = 3\n",
    "fun1 = lambda x: testf.Ishigami(x, 0.5*7.0, 0.5*0.1)\n",
    "Ishigami.add_level(fun1, 1.0)\n",
    "fun2 = lambda x: testf.Ishigami(x, 0.8*7.0, 0.8*0.1)\n",
    "Ishigami.add_level(fun2, 100.0)\n",
    "fun3 = lambda x: testf.Ishigami(x, 1.0*7.0, 1.0*0.1)\n",
    "Ishigami.add_level(fun3, 10000.0)"
   ]
  },
  {
   "cell_type": "code",
   "execution_count": 3,
   "metadata": {},
   "outputs": [],
   "source": [
    "# Here are variables that can be set beforehand\n",
    "Function = Ishigami\n",
    "total_order = 5\n",
    "pilot_N = [500,150,50] # pilot samples\n",
    "\n",
    "#   \n",
    "## INITIALIZATION\n",
    "#\n",
    "L = Function.levels\n",
    "var = Function.variables\n",
    "P = int(np.math.factorial(var+total_order)/np.math.factorial(var)/np.math.factorial(total_order)) # total order construction\n",
    "BETA_ML = np.zeros((P,))\n",
    "multiindices = p.EvalMulti_totdeg(var,total_order)\n",
    "VAR = np.zeros((P,)); COV = np.zeros((P,P)); COV_bylevel = np.zeros((L,P,P))"
   ]
  },
  {
   "cell_type": "code",
   "execution_count": 4,
   "metadata": {},
   "outputs": [],
   "source": [
    "#\n",
    "## NOW THE PILOT SAMPLING STEP\n",
    "#\n",
    "# Setting up the relevant variables within the loop\n",
    "polynomial_norms = p.get_polynomial_norms(multiindices, Function.basis)\n",
    "samples = [[]]*L; samples_on_ab = [[]]*L\n",
    "sampled_polynomials = [[]]*P; function_evals = [[]]*L        \n",
    "# generating parameter samples and doing function evaluations\n",
    "samples, samples_on_ab = mlmc.generate_samples(pilot_N, Function, samples, samples_on_ab)\n",
    "function_evals = mlmc.evaluate_ML_functions(pilot_N, Function, samples_on_ab, function_evals)\n",
    "# evaluate the orthogonal polynomials and do an initial sample allocation step\n",
    "for j in range(P): \n",
    "    sampled_polynomials[j] = mlmc.sample_polynomial(pilot_N, Function, samples, sampled_polynomials[j], multiindices[:,j])\n",
    "# combine evaluations to estimate PCE coefficients           \n",
    "numerator = np.zeros((P,))\n",
    "for j in range(P):\n",
    "    for i in range(L):\n",
    "        numer_update = np.mean(function_evals[i] * sampled_polynomials[j][i])\n",
    "        numerator[j] += numer_update          \n",
    "BETA_ML = numerator / polynomial_norms\n",
    "# Estimate all of the necessary statistical moments for UQ\n",
    "moments = mlmc.evaluate_moments(function_evals, sampled_polynomials, Function)\n",
    "# Evaluate ML variance and covariance expressions from derivation\n",
    "for i in range(P):\n",
    "    VAR[i] = mlmc.evaluate_ml_variance(i, moments, Function, pilot_N, polynomial_norms)\n",
    "    for j in range(P):\n",
    "        COV[i,j] = np.sum(mlmc.evaluate_ml_covariance(i, j, moments, Function, pilot_N, polynomial_norms))\n",
    "        COV_bylevel[:,i,j] = mlmc.evaluate_ml_covariance(i, j, moments, Function, pilot_N, polynomial_norms)"
   ]
  },
  {
   "cell_type": "code",
   "execution_count": 5,
   "metadata": {},
   "outputs": [
    {
     "name": "stdout",
     "output_type": "stream",
     "text": [
      "Variance targets: [[0], [1], [2]]\n",
      "Var[S_u] pilot:  [0.47311171 0.42657556 0.14003467]\n"
     ]
    }
   ],
   "source": [
    "#\n",
    "## NOW THE VARIANCE DECOMPOSITION STEP\n",
    "#\n",
    "strategy = 'all first order' \n",
    "variance_targets = mlmc.decompose_variance(strategy, multiindices, 0)\n",
    "print('Variance targets:', variance_targets)\n",
    "pce_indices_S, pce_indices_T = mlmc.extract_multiple_gsa_coefs(variance_targets, multiindices)\n",
    "if strategy == 'all total':\n",
    "    Var_pilot = np.array([mlmc.estimate_sobol_var(pce_indices_T[i], VAR, COV, polynomial_norms) for i in range(len(variance_targets))])\n",
    "else:\n",
    "    Var_pilot = np.array([mlmc.estimate_sobol_var(pce_indices_S[i], VAR, COV, polynomial_norms) for i in range(len(variance_targets))])\n",
    "print('Var[S_u] pilot: ', Var_pilot)"
   ]
  },
  {
   "cell_type": "code",
   "execution_count": 6,
   "metadata": {},
   "outputs": [
    {
     "name": "stdout",
     "output_type": "stream",
     "text": [
      "----------------- Performing optimization for sample allocation------------------\n",
      "Optimization terminated successfully.    (Exit mode 0)\n",
      "            Current function value: 2559333.454140212\n",
      "            Iterations: 37\n",
      "            Function evaluations: 218\n",
      "            Gradient evaluations: 33\n",
      "Solution sample profile:  [59314.  3502.   215.]\n",
      "Variance at solution:  [0.0473078  0.04204325 0.01198399]\n"
     ]
    }
   ],
   "source": [
    "#\n",
    "## NOW THE OPTIMIZATION STEP BASED ON THE PILOT SAMPLES\n",
    "#\n",
    "print('----------------- Performing optimization for sample allocation------------------')\n",
    "def objective_func(N):\n",
    "    return Function.costs.dot(N)\n",
    "x0 = pilot_N # initial guess and pilot sample\n",
    "reduction = 10\n",
    "cons = ({'type': 'ineq', 'fun': lambda x: Var_pilot/reduction - mlmc.evaluate_var_sobol(x, Function, moments, variance_targets, multiindices)}) # a factor of 10 reduction for all\n",
    "bnds = ((1,None),)*L\n",
    "\n",
    "sol = scopt.minimize(objective_func, x0, method='SLSQP',constraints=cons, \\\n",
    "               bounds=bnds, options={'disp': True, 'maxiter':1000, 'ftol':1e-10}, jac=None)\n",
    "print('Solution sample profile: ',np.ceil(sol.x))\n",
    "print('Variance at solution: ',mlmc.evaluate_var_sobol(np.ceil(sol.x), Function, moments, variance_targets, multiindices))"
   ]
  },
  {
   "cell_type": "code",
   "execution_count": 7,
   "metadata": {},
   "outputs": [
    {
     "name": "stdout",
     "output_type": "stream",
     "text": [
      "------------------------ Computing new QoI samples ------------------------------\n",
      "Updated variance:  [0.07246714 0.04356466 0.0009943 ]\n"
     ]
    }
   ],
   "source": [
    "#\n",
    "## NEXT WE RESAMPLE THE QOI BASED ON THE OPTIMAL SAMPLE PROFILE\n",
    "# \n",
    "print('------------------------ Computing new QoI samples ------------------------------')\n",
    "delta_N = [int(i) for i in np.clip(np.ceil(sol.x) - pilot_N, 0, None)] # number of new samples to be taken\n",
    "# generating parameter samples and doing function evaluations\n",
    "samples, samples_on_ab = mlmc.generate_samples(delta_N, Function, samples, samples_on_ab)\n",
    "function_evals = mlmc.evaluate_ML_functions(delta_N, Function, samples_on_ab, function_evals)\n",
    "# evaluate the orthogonal polynomials and do an initial sample allocation step\n",
    "for j in range(P): \n",
    "    sampled_polynomials[j] = mlmc.sample_polynomial(delta_N, Function, samples, sampled_polynomials[j], multiindices[:,j])\n",
    "# combine evaluations to estimate PCE coefficients           \n",
    "for j in range(P):\n",
    "    for i in range(L):\n",
    "        numer_update = np.mean(function_evals[i] * sampled_polynomials[j][i])\n",
    "        numerator[j] += numer_update\n",
    "            \n",
    "BETA_ML = numerator / polynomial_norms\n",
    "moments = mlmc.evaluate_moments(function_evals, sampled_polynomials, Function)\n",
    "Var_new = mlmc.evaluate_var_sobol(np.ceil(sol.x), Function, moments, variance_targets, multiindices)\n",
    "print('Updated variance: ', Var_new)"
   ]
  },
  {
   "cell_type": "code",
   "execution_count": 8,
   "metadata": {},
   "outputs": [
    {
     "name": "stdout",
     "output_type": "stream",
     "text": [
      "------------------------------ GSA Results -------------------------------------\n",
      "Estimated Sobol index:  0.32224 with estimated variance:  0.07247\n",
      "Estimated Sobol index:  0.35880 with estimated variance:  0.04356\n",
      "Estimated Sobol index:  0.01285 with estimated variance:  0.00099\n"
     ]
    }
   ],
   "source": [
    "#\n",
    "## FINAL GSA POSTPROCESSING\n",
    "# \n",
    "Sobol_S, Sobol_T, Variance = mlmc.get_sobol_frombeta(BETA_ML, variance_targets, multiindices, polynomial_norms)\n",
    "\n",
    "print('------------------------------ GSA Results -------------------------------------')\n",
    "for i in range(len(variance_targets)):  \n",
    "    print('Estimated Sobol index: ','%.5f' % Sobol_S[i], 'with estimated variance: ', '%.5f' %Var_new[i])"
   ]
  },
  {
   "cell_type": "code",
   "execution_count": null,
   "metadata": {},
   "outputs": [],
   "source": []
  }
 ],
 "metadata": {
  "kernelspec": {
   "display_name": "Python 3",
   "language": "python",
   "name": "python3"
  },
  "language_info": {
   "codemirror_mode": {
    "name": "ipython",
    "version": 3
   },
   "file_extension": ".py",
   "mimetype": "text/x-python",
   "name": "python",
   "nbconvert_exporter": "python",
   "pygments_lexer": "ipython3",
   "version": "3.7.6"
  }
 },
 "nbformat": 4,
 "nbformat_minor": 4
}
