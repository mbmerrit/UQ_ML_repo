{
 "cells": [
  {
   "cell_type": "code",
   "execution_count": 1,
   "metadata": {},
   "outputs": [],
   "source": [
    "import numpy as np\n",
    "import tensorflow as tf\n",
    "from tensorflow import keras\n",
    "from tensorflow.keras import layers\n",
    "from tensorflow.keras.datasets import mnist\n",
    "import matplotlib.pyplot as plt\n",
    "import os\n",
    "\n",
    "os.environ['KMP_DUPLICATE_LIB_OK']='True'"
   ]
  },
  {
   "cell_type": "markdown",
   "metadata": {},
   "source": [
    "## We start by training a feed forward neural net on the MNIST data, for a baseline "
   ]
  },
  {
   "cell_type": "code",
   "execution_count": 2,
   "metadata": {},
   "outputs": [],
   "source": [
    "# Now we download the MNIST data\n",
    "(x_train, y_train), (x_test, y_test) = mnist.load_data()"
   ]
  },
  {
   "cell_type": "code",
   "execution_count": 3,
   "metadata": {},
   "outputs": [
    {
     "data": {
      "image/png": "[encoded data removed]",
      "text/plain": [
       "<Figure size 432x288 with 1 Axes>"
      ]
     },
     "metadata": {
      "needs_background": "light"
     },
     "output_type": "display_data"
    }
   ],
   "source": [
    "plt.imshow(x_train[0], cmap=plt.cm.binary)\n",
    "x_train = tf.keras.utils.normalize(x_train, axis=1)\n",
    "x_test = tf.keras.utils.normalize(x_test, axis=1)"
   ]
  },
  {
   "cell_type": "code",
   "execution_count": 4,
   "metadata": {},
   "outputs": [
    {
     "name": "stdout",
     "output_type": "stream",
     "text": [
      "Train on 60000 samples\n",
      "Epoch 1/3\n",
      "60000/60000 [==============================] - 9s 154us/sample - loss: 0.2615 - accuracy: 0.9238\n",
      "Epoch 2/3\n",
      "60000/60000 [==============================] - 8s 136us/sample - loss: 0.1088 - accuracy: 0.9668\n",
      "Epoch 3/3\n",
      "60000/60000 [==============================] - 8s 136us/sample - loss: 0.0741 - accuracy: 0.9766\n"
     ]
    },
    {
     "data": {
      "text/plain": [
       "<tensorflow.python.keras.callbacks.History at 0x140dbf6d0>"
      ]
     },
     "execution_count": 4,
     "metadata": {},
     "output_type": "execute_result"
    }
   ],
   "source": [
    "# Next we define a feedforward neural net model\n",
    "model = tf.keras.models.Sequential()\n",
    "model.add(tf.keras.layers.Flatten()) # this is the input layer\n",
    "# Now for our hidden layers\n",
    "model.add(tf.keras.layers.Dense(128, activation=tf.nn.relu)) # 128 neurons, with ReLU activation\n",
    "model.add(tf.keras.layers.Dense(128, activation=tf.nn.relu)) # 128 neurons, with ReLU activation\n",
    "model.add(tf.keras.layers.Dense(10, activation=tf.nn.softmax)) # final layer with 10 neurons, with softmax activation\n",
    "\n",
    "model.compile(optimizer='adam', loss='sparse_categorical_crossentropy',metrics=['accuracy'])\n",
    "\n",
    "model.fit(x_train, y_train, epochs=3)"
   ]
  },
  {
   "cell_type": "code",
   "execution_count": 5,
   "metadata": {},
   "outputs": [
    {
     "name": "stdout",
     "output_type": "stream",
     "text": [
      "[[1.8350710e-09 1.4208547e-08 2.1304224e-06 ... 9.9991381e-01\n",
      "  1.0387985e-07 6.0644152e-06]\n",
      " [7.0073201e-09 2.7004434e-03 9.9715579e-01 ... 2.1988400e-09\n",
      "  2.5990030e-06 3.7059720e-11]\n",
      " [9.6867083e-09 9.9994051e-01 1.1829853e-05 ... 3.6729762e-05\n",
      "  4.6452228e-06 1.4078607e-07]\n",
      " ...\n",
      " [5.8660754e-10 3.1308273e-06 9.2491540e-08 ... 5.2604947e-04\n",
      "  3.1802549e-06 1.0070178e-04]\n",
      " [8.2932547e-07 2.1091513e-07 1.2455999e-07 ... 6.0222845e-07\n",
      "  1.7571646e-04 9.3221066e-09]\n",
      " [5.0834143e-07 1.1318653e-07 5.6452893e-07 ... 8.4745752e-11\n",
      "  4.9750287e-07 3.7788670e-08]]\n"
     ]
    }
   ],
   "source": [
    "val_loss, val_acc = model.evaluate(x_test, y_test, verbose=0);\n",
    "predictions = model.predict([x_test]) #takes a list\n",
    "\n",
    "print(predictions) # these are one_hot arrays of probability distributions, use numpy"
   ]
  },
  {
   "cell_type": "code",
   "execution_count": 6,
   "metadata": {},
   "outputs": [
    {
     "name": "stdout",
     "output_type": "stream",
     "text": [
      "7\n"
     ]
    },
    {
     "data": {
      "text/plain": [
       "<matplotlib.image.AxesImage at 0x647ba4b90>"
      ]
     },
     "execution_count": 6,
     "metadata": {},
     "output_type": "execute_result"
    },
    {
     "data": {
      "image/png": "[encoded data removed]",
      "text/plain": [
       "<Figure size 432x288 with 1 Axes>"
      ]
     },
     "metadata": {
      "needs_background": "light"
     },
     "output_type": "display_data"
    }
   ],
   "source": [
    "# Now we check if it has worked on just the first image\n",
    "print(np.argmax(predictions[0]))\n",
    "plt.imshow(x_test[0])"
   ]
  },
  {
   "cell_type": "markdown",
   "metadata": {},
   "source": [
    "## Now we modify the CNN code to work with Keras\n",
    "\n",
    "We begin by giving the data an 80/20 split between training and testing. \n",
    "\n",
    "This neural net has 2 convolutional layers with 5 by 5 filters in each and all activations are ReLU. We also include a softmax output layer with a fully connected layer at the end.\n",
    "\n",
    "We optimize using the Adam optimizer and dropout for the first dense layer. "
   ]
  },
  {
   "cell_type": "code",
   "execution_count": 7,
   "metadata": {},
   "outputs": [],
   "source": [
    "# load train and test dataset\n",
    "def load_dataset():\n",
    "    # load dataset\n",
    "    (trainX, trainY), (testX, testY) = mnist.load_data()\n",
    "    # reshape dataset to have a single channel\n",
    "    trainX = trainX.reshape((trainX.shape[0], 28, 28, 1))\n",
    "    testX = testX.reshape((testX.shape[0], 28, 28, 1))\n",
    "    # one hot encode target values\n",
    "    trainY = keras.utils.to_categorical(trainY)\n",
    "    testY = keras.utils.to_categorical(testY)\n",
    "    return trainX, trainY, testX, testY\n",
    " \n",
    "# define cnn model\n",
    "def define_model():\n",
    "    model = tf.keras.models.Sequential()\n",
    "    model.add(layers.Conv2D(32, (5, 5), input_shape=(28, 28, 1)) )\n",
    "    model.add(layers.Activation('relu'))\n",
    "    model.add(layers.MaxPooling2D((2, 2)))\n",
    "    model.add(layers.Conv2D(64, (5, 5)))\n",
    "    model.add(layers.Activation('relu'))\n",
    "    model.add(layers.MaxPooling2D((2, 2)))\n",
    "    model.add(layers.Flatten())\n",
    "    model.add(layers.Dropout(.2, input_shape=(1024,)) )\n",
    "    model.add(layers.Activation('relu'))\n",
    "    \n",
    "    model.add(layers.Dense(10))\n",
    "    model.add(layers.Activation('softmax'))\n",
    "    # compile model\n",
    "    model.compile(optimizer='adam', loss='categorical_crossentropy',metrics=['accuracy'])\n",
    "    return model"
   ]
  },
  {
   "cell_type": "code",
   "execution_count": 8,
   "metadata": {},
   "outputs": [
    {
     "name": "stdout",
     "output_type": "stream",
     "text": [
      "Model: \"sequential_1\"\n",
      "_________________________________________________________________\n",
      "Layer (type)                 Output Shape              Param #   \n",
      "=================================================================\n",
      "conv2d (Conv2D)              (None, 24, 24, 32)        832       \n",
      "_________________________________________________________________\n",
      "activation (Activation)      (None, 24, 24, 32)        0         \n",
      "_________________________________________________________________\n",
      "max_pooling2d (MaxPooling2D) (None, 12, 12, 32)        0         \n",
      "_________________________________________________________________\n",
      "conv2d_1 (Conv2D)            (None, 8, 8, 64)          51264     \n",
      "_________________________________________________________________\n",
      "activation_1 (Activation)    (None, 8, 8, 64)          0         \n",
      "_________________________________________________________________\n",
      "max_pooling2d_1 (MaxPooling2 (None, 4, 4, 64)          0         \n",
      "_________________________________________________________________\n",
      "flatten_1 (Flatten)          (None, 1024)              0         \n",
      "_________________________________________________________________\n",
      "dropout (Dropout)            (None, 1024)              0         \n",
      "_________________________________________________________________\n",
      "activation_2 (Activation)    (None, 1024)              0         \n",
      "_________________________________________________________________\n",
      "dense_3 (Dense)              (None, 10)                10250     \n",
      "_________________________________________________________________\n",
      "activation_3 (Activation)    (None, 10)                0         \n",
      "=================================================================\n",
      "Total params: 62,346\n",
      "Trainable params: 62,346\n",
      "Non-trainable params: 0\n",
      "_________________________________________________________________\n",
      "Train on 48000 samples, validate on 12000 samples\n",
      "Epoch 1/8\n",
      "48000/48000 [==============================] - 43s 904us/sample - loss: 0.5255 - accuracy: 0.9245 - val_loss: 0.0785 - val_accuracy: 0.9762\n",
      "Epoch 2/8\n",
      "48000/48000 [==============================] - 41s 850us/sample - loss: 0.0878 - accuracy: 0.9737 - val_loss: 0.0945 - val_accuracy: 0.9747\n",
      "Epoch 3/8\n",
      "48000/48000 [==============================] - 39s 821us/sample - loss: 0.0763 - accuracy: 0.9769 - val_loss: 0.0786 - val_accuracy: 0.9829\n",
      "Epoch 4/8\n",
      "48000/48000 [==============================] - 39s 822us/sample - loss: 0.0766 - accuracy: 0.9782 - val_loss: 0.0581 - val_accuracy: 0.9843\n",
      "Epoch 5/8\n",
      "48000/48000 [==============================] - 39s 814us/sample - loss: 0.0735 - accuracy: 0.9800 - val_loss: 0.0579 - val_accuracy: 0.9836\n",
      "Epoch 6/8\n",
      "48000/48000 [==============================] - 40s 843us/sample - loss: 0.0658 - accuracy: 0.9822 - val_loss: 0.0691 - val_accuracy: 0.9822\n",
      "Epoch 7/8\n",
      "48000/48000 [==============================] - 37s 773us/sample - loss: 0.0645 - accuracy: 0.9835 - val_loss: 0.0570 - val_accuracy: 0.9862\n",
      "Epoch 8/8\n",
      "48000/48000 [==============================] - 39s 812us/sample - loss: 0.0604 - accuracy: 0.9844 - val_loss: 0.0948 - val_accuracy: 0.9809\n"
     ]
    }
   ],
   "source": [
    "trainX, trainY, testX, testY = load_dataset()\n",
    "CNN_model = define_model()\n",
    "CNN_model.summary()\n",
    "\n",
    "history = CNN_model.fit(trainX, trainY, epochs=8, batch_size=32, validation_split=0.2, verbose=1)"
   ]
  },
  {
   "cell_type": "code",
   "execution_count": 11,
   "metadata": {},
   "outputs": [
    {
     "name": "stdout",
     "output_type": "stream",
     "text": [
      "Accuracy percentage on testing data:  98.29999804496765\n"
     ]
    }
   ],
   "source": [
    "history\n",
    "#CNN_model.save('final_model.h5')\n",
    "#CNN_model = load_model('final_model.h5')\n",
    "\n",
    "# evaluate model on test dataset\n",
    "_, acc = CNN_model.evaluate(testX, testY, verbose=0)\n",
    "print('Accuracy percentage on testing data: ', (acc * 100.0))"
   ]
  },
  {
   "cell_type": "code",
   "execution_count": 12,
   "metadata": {},
   "outputs": [
    {
     "data": {
      "text/plain": [
       "<matplotlib.legend.Legend at 0x6708efad0>"
      ]
     },
     "execution_count": 12,
     "metadata": {},
     "output_type": "execute_result"
    },
    {
     "data": {
      "image/png": "[encoded data removed]",
      "text/plain": [
       "<Figure size 432x288 with 1 Axes>"
      ]
     },
     "metadata": {
      "needs_background": "light"
     },
     "output_type": "display_data"
    }
   ],
   "source": [
    "plt.plot(history.history['accuracy'], label='testing accuracy')\n",
    "plt.plot(history.history['val_accuracy'], label = 'validation accuracy')\n",
    "plt.xlabel('Epoch')\n",
    "plt.ylabel('Accuracy')\n",
    "plt.legend(loc='lower right')\n",
    "#plt.savefig('MNIST_CNN.pdf')"
   ]
  },
  {
   "cell_type": "markdown",
   "metadata": {},
   "source": [
    "## We modify the CNN to use same padding and batch normalization"
   ]
  },
  {
   "cell_type": "code",
   "execution_count": 13,
   "metadata": {},
   "outputs": [],
   "source": [
    "CNN2 = tf.keras.models.Sequential()\n",
    "CNN2.add(layers.Conv2D(32, (3, 3), padding='same', input_shape=(28, 28, 1)) )\n",
    "CNN2.add(layers.Activation('relu'))\n",
    "CNN2.add(layers.BatchNormalization(  ) )\n",
    "CNN2.add(layers.MaxPooling2D((2, 2)))\n",
    "CNN2.add(layers.Conv2D(32, (3, 3), padding='same'))\n",
    "CNN2.add(layers.Activation('relu'))\n",
    "CNN2.add(layers.BatchNormalization(  ) )\n",
    "CNN2.add(layers.MaxPooling2D((2, 2)))\n",
    "CNN2.add(layers.Flatten())\n",
    "CNN2.add(layers.Dropout(.2, input_shape=(1024,)) )\n",
    "CNN2.add(layers.Activation('relu'))\n",
    "    \n",
    "CNN2.add(layers.Dense(10))\n",
    "CNN2.add(layers.Activation('softmax'))\n",
    "# compile model\n",
    "CNN2.compile(optimizer='adam', loss='categorical_crossentropy',metrics=['accuracy'])"
   ]
  },
  {
   "cell_type": "code",
   "execution_count": 14,
   "metadata": {},
   "outputs": [
    {
     "name": "stdout",
     "output_type": "stream",
     "text": [
      "Model: \"sequential_2\"\n",
      "_________________________________________________________________\n",
      "Layer (type)                 Output Shape              Param #   \n",
      "=================================================================\n",
      "conv2d_2 (Conv2D)            (None, 28, 28, 32)        320       \n",
      "_________________________________________________________________\n",
      "activation_4 (Activation)    (None, 28, 28, 32)        0         \n",
      "_________________________________________________________________\n",
      "batch_normalization (BatchNo (None, 28, 28, 32)        128       \n",
      "_________________________________________________________________\n",
      "max_pooling2d_2 (MaxPooling2 (None, 14, 14, 32)        0         \n",
      "_________________________________________________________________\n",
      "conv2d_3 (Conv2D)            (None, 14, 14, 32)        9248      \n",
      "_________________________________________________________________\n",
      "activation_5 (Activation)    (None, 14, 14, 32)        0         \n",
      "_________________________________________________________________\n",
      "batch_normalization_1 (Batch (None, 14, 14, 32)        128       \n",
      "_________________________________________________________________\n",
      "max_pooling2d_3 (MaxPooling2 (None, 7, 7, 32)          0         \n",
      "_________________________________________________________________\n",
      "flatten_2 (Flatten)          (None, 1568)              0         \n",
      "_________________________________________________________________\n",
      "dropout_1 (Dropout)          (None, 1568)              0         \n",
      "_________________________________________________________________\n",
      "activation_6 (Activation)    (None, 1568)              0         \n",
      "_________________________________________________________________\n",
      "dense_4 (Dense)              (None, 10)                15690     \n",
      "_________________________________________________________________\n",
      "activation_7 (Activation)    (None, 10)                0         \n",
      "=================================================================\n",
      "Total params: 25,514\n",
      "Trainable params: 25,386\n",
      "Non-trainable params: 128\n",
      "_________________________________________________________________\n",
      "Train on 48000 samples, validate on 12000 samples\n",
      "Epoch 1/8\n",
      "48000/48000 [==============================] - 34s 708us/sample - loss: 0.1799 - accuracy: 0.9457 - val_loss: 0.0614 - val_accuracy: 0.9818\n",
      "Epoch 2/8\n",
      "48000/48000 [==============================] - 32s 665us/sample - loss: 0.0679 - accuracy: 0.9791 - val_loss: 0.0493 - val_accuracy: 0.9860\n",
      "Epoch 3/8\n",
      "48000/48000 [==============================] - 31s 655us/sample - loss: 0.0538 - accuracy: 0.9832 - val_loss: 0.0540 - val_accuracy: 0.9859\n",
      "Epoch 4/8\n",
      "48000/48000 [==============================] - 34s 714us/sample - loss: 0.0421 - accuracy: 0.9869 - val_loss: 0.0542 - val_accuracy: 0.9858\n",
      "Epoch 5/8\n",
      "48000/48000 [==============================] - 40s 829us/sample - loss: 0.0378 - accuracy: 0.9879 - val_loss: 0.0485 - val_accuracy: 0.9862\n",
      "Epoch 6/8\n",
      "48000/48000 [==============================] - 39s 817us/sample - loss: 0.0329 - accuracy: 0.9896 - val_loss: 0.0594 - val_accuracy: 0.9848\n",
      "Epoch 7/8\n",
      "48000/48000 [==============================] - 37s 770us/sample - loss: 0.0286 - accuracy: 0.9903 - val_loss: 0.0500 - val_accuracy: 0.9877\n",
      "Epoch 8/8\n",
      "48000/48000 [==============================] - 35s 729us/sample - loss: 0.0259 - accuracy: 0.9917 - val_loss: 0.0444 - val_accuracy: 0.9894\n"
     ]
    }
   ],
   "source": [
    "CNN2.summary()\n",
    "\n",
    "history = CNN2.fit(trainX, trainY, epochs=8, batch_size=32, validation_split=0.2, verbose=1)"
   ]
  },
  {
   "cell_type": "code",
   "execution_count": 15,
   "metadata": {},
   "outputs": [
    {
     "name": "stdout",
     "output_type": "stream",
     "text": [
      "Accuracy percentage on testing data:  99.15000200271606\n"
     ]
    },
    {
     "data": {
      "text/plain": [
       "<matplotlib.legend.Legend at 0x67347da50>"
      ]
     },
     "execution_count": 15,
     "metadata": {},
     "output_type": "execute_result"
    },
    {
     "data": {
      "image/png": "[encoded data removed]",
      "text/plain": [
       "<Figure size 432x288 with 1 Axes>"
      ]
     },
     "metadata": {
      "needs_background": "light"
     },
     "output_type": "display_data"
    }
   ],
   "source": [
    "_, acc = CNN2.evaluate(testX, testY, verbose=0)\n",
    "print('Accuracy percentage on testing data: ', (acc * 100.0))\n",
    "\n",
    "plt.plot(history.history['accuracy'], label='accuracy')\n",
    "plt.plot(history.history['val_accuracy'], label = 'validation accuracy')\n",
    "plt.xlabel('Epoch')\n",
    "plt.ylabel('Accuracy')\n",
    "plt.legend(loc='lower right')\n",
    "#plt.savefig('MNIST_CNN2.pdf')"
   ]
  },
  {
   "cell_type": "markdown",
   "metadata": {},
   "source": [
    "## LSTM with the IMDB dataset"
   ]
  },
  {
   "cell_type": "code",
   "execution_count": 13,
   "metadata": {},
   "outputs": [],
   "source": [
    "from tensorflow.keras.datasets import imdb"
   ]
  },
  {
   "cell_type": "code",
   "execution_count": 14,
   "metadata": {},
   "outputs": [],
   "source": [
    "(x_train_imdb, y_train_imdb), (x_test_imdb, y_test_imdb) = imdb.load_data(path=\"imdb.npz\",num_words=5000)"
   ]
  },
  {
   "cell_type": "code",
   "execution_count": 15,
   "metadata": {},
   "outputs": [],
   "source": [
    "x_train_imdb = keras.preprocessing.sequence.pad_sequences(x_train_imdb, maxlen=500)\n",
    "x_test_imdb = keras.preprocessing.sequence.pad_sequences(x_test_imdb, maxlen=500)"
   ]
  },
  {
   "cell_type": "code",
   "execution_count": 16,
   "metadata": {},
   "outputs": [
    {
     "name": "stdout",
     "output_type": "stream",
     "text": [
      "Model: \"sequential_2\"\n",
      "_________________________________________________________________\n",
      "Layer (type)                 Output Shape              Param #   \n",
      "=================================================================\n",
      "embedding_2 (Embedding)      (None, None, 32)          160000    \n",
      "_________________________________________________________________\n",
      "lstm_2 (LSTM)                (None, None, 32)          8320      \n",
      "_________________________________________________________________\n",
      "dense_2 (Dense)              (None, None, 1)           33        \n",
      "_________________________________________________________________\n",
      "activation_2 (Activation)    (None, None, 1)           0         \n",
      "=================================================================\n",
      "Total params: 168,353\n",
      "Trainable params: 168,353\n",
      "Non-trainable params: 0\n",
      "_________________________________________________________________\n"
     ]
    }
   ],
   "source": [
    "lstm_model = keras.models.Sequential()\n",
    "lstm_model.add(layers.Embedding(5000, 32))\n",
    "lstm_model.add(layers.LSTM(32, return_sequences=True))\n",
    "lstm_model.add(layers.Dense(1))\n",
    "lstm_model.add(layers.Activation('sigmoid'))\n",
    "\n",
    "lstm_model.compile(loss='binary_crossentropy',optimizer='adam',metrics=['accuracy'])\n",
    "\n",
    "lstm_model.summary()"
   ]
  },
  {
   "cell_type": "code",
   "execution_count": null,
   "metadata": {},
   "outputs": [
    {
     "name": "stdout",
     "output_type": "stream",
     "text": [
      "Train on 25000 samples\n",
      "Epoch 1/10\n",
      "25000/25000 [==============================] - 293s 12ms/sample - loss: 0.6308 - accuracy: 0.5907\n",
      "Epoch 2/10\n",
      "25000/25000 [==============================] - 293s 12ms/sample - loss: 0.5672 - accuracy: 0.6383\n",
      "Epoch 3/10\n",
      "25000/25000 [==============================] - 260s 10ms/sample - loss: 0.5596 - accuracy: 0.6417\n",
      "Epoch 4/10\n",
      "25000/25000 [==============================] - 248s 10ms/sample - loss: 0.5424 - accuracy: 0.6553\n",
      "Epoch 5/10\n",
      "25000/25000 [==============================] - 272s 11ms/sample - loss: 0.5408 - accuracy: 0.6528\n",
      "Epoch 6/10\n",
      "25000/25000 [==============================] - 249s 10ms/sample - loss: 0.5291 - accuracy: 0.6604\n",
      "Epoch 7/10\n",
      " 1900/25000 [=>............................] - ETA: 4:15 - loss: 0.5168 - accuracy: 0.6710"
     ]
    }
   ],
   "source": [
    "lstm_model.fit(x_train_imdb, y_train_imdb, batch_size=100, epochs=10)#, validation_data=(x_test_imdb, y_test_imdb))\n",
    "score, acc = lstm_model.evaluate(x_test_imdb, y_test_imdb, batch_size=32)\n",
    "print('Test score:', score)\n",
    "print('Test accuracy:', acc)"
   ]
  },
  {
   "cell_type": "markdown",
   "metadata": {},
   "source": [
    "# Here we build our table to collect the results of the LSTM validation error\n",
    "\n",
    "\n",
    "| Hidden states     |  Embed length: 8  |   16     | 32      |  \n",
    "| :---        |    :----:  |         :---: | :---:        | \n",
    "| 16      | .6480       | .6549   | .6595      | \n",
    "| 32   | .6526        | .6610      | .6604   | \n",
    "| 64   | .6438        | .6565      | .6585   | \n",
    "| 128   | .6495        | .6537      | .6566   | \n",
    "| Table of  out-of-sample accuracies |"
   ]
  },
  {
   "cell_type": "code",
   "execution_count": null,
   "metadata": {},
   "outputs": [],
   "source": []
  }
 ],
 "metadata": {
  "kernelspec": {
   "display_name": "Python 3",
   "language": "python",
   "name": "python3"
  },
  "language_info": {
   "codemirror_mode": {
    "name": "ipython",
    "version": 3
   },
   "file_extension": ".py",
   "mimetype": "text/x-python",
   "name": "python",
   "nbconvert_exporter": "python",
   "pygments_lexer": "ipython3",
   "version": "3.7.6"
  }
 },
 "nbformat": 4,
 "nbformat_minor": 4
}
