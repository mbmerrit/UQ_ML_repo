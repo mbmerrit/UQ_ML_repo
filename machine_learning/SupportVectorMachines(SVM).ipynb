{
 "cells": [
  {
   "cell_type": "code",
   "execution_count": 156,
   "metadata": {},
   "outputs": [],
   "source": [
    "import numpy as np\n",
    "import matplotlib.pyplot as plt\n",
    "from scipy.io import loadmat\n",
    "from scipy import stats\n",
    "import random"
   ]
  },
  {
   "cell_type": "markdown",
   "metadata": {},
   "source": [
    "## Support Vector Machines (SVM)\n",
    "\n",
    " We want to choose weights and a bias that maximizes the margin between our data points. This minimizes the chances that a new data point will be misclassified. We then show how this can be solved as a quadratic programming problem. "
   ]
  },
  {
   "cell_type": "code",
   "execution_count": 148,
   "metadata": {},
   "outputs": [
    {
     "data": {
      "text/plain": [
       "Text(0, 0.5, '$x_2$')"
      ]
     },
     "execution_count": 148,
     "metadata": {},
     "output_type": "execute_result"
    },
    {
     "data": {
      "image/png": "[encoded data removed]",
      "text/plain": [
       "<Figure size 432x288 with 1 Axes>"
      ]
     },
     "metadata": {
      "needs_background": "light"
     },
     "output_type": "display_data"
    }
   ],
   "source": [
    "# We begin by defining our data\n",
    "features = np.array([[1,2,2,3,3,4],[3,3,4,1,2,2]]) # feature array \n",
    "labels = np.array([1, 1, 1, -1, -1, -1])\n",
    "\n",
    "plt.plot(features[0,:3], features[1,:3], 'o')\n",
    "plt.plot(features[0,3:], features[1,3:], 'o')\n",
    "plt.xlabel('$x_1$', fontsize=15)\n",
    "plt.ylabel('$x_2$', fontsize=15)\n",
    "#plt.savefig('data_points')"
   ]
  },
  {
   "cell_type": "code",
   "execution_count": 149,
   "metadata": {},
   "outputs": [
    {
     "data": {
      "text/plain": [
       "Text(0, 0.5, '$x_2$')"
      ]
     },
     "execution_count": 149,
     "metadata": {},
     "output_type": "execute_result"
    },
    {
     "data": {
      "image/png": "[encoded data removed]",
      "text/plain": [
       "<Figure size 432x288 with 1 Axes>"
      ]
     },
     "metadata": {
      "needs_background": "light"
     },
     "output_type": "display_data"
    }
   ],
   "source": [
    "# Now we choose by inspection the best separating plane\n",
    "m = 1.; b = 0.0\n",
    "\n",
    "plt.plot(features[0,:3], features[1,:3], 'o')\n",
    "plt.plot(features[0,3:], features[1,3:], 'o')\n",
    "plt.plot([m+b, 4*m + b], [m+b, 4*m+b], '-')\n",
    "plt.xlabel('$x_1$', fontsize=15)\n",
    "plt.ylabel('$x_2$', fontsize=15)\n",
    "#plt.savefig('SVM_inspect')"
   ]
  },
  {
   "cell_type": "markdown",
   "metadata": {},
   "source": [
    "The SVM problem that we will set up is \n",
    "$$\\min_w \\frac{1}{2}w^T w ~~\\text{s.t.}~~ y^i(w^T x^i + b) \\leq -1.$$ \n",
    "\n",
    "The constraint ensures that no data lies inside of the margin area, for some given margin width, inversely proportional to $w$. We can reformulate this problem using duality theory starting with the Lagrange the function $L(\\lambda, w) = \\frac{1}{2}w^T w + \\sum_{i=1}^n \\lambda^i \\left[ y^i (w^T x^i + b) +1  \\right] $. If we minimize $L$, this will also solve the original problem. \n",
    "\n",
    "We then set up the dual problem as $\\max_{\\lambda \\geq 0} \\left[ \\min_w L(w, \\lambda) \\right] = \\max_{\\lambda \\geq 0} g(\\lambda).$ This problem can be written in an expanded version as $$\\max_{\\lambda \\geq 0} \\left[ \\min_{w, b} \\left[ \\frac{1}{2}w^T w + \\sum_{i=1}^n \\lambda_i \\left( y^i (w^T x^i + b) + 1 \\right) \\right] \\right]$$\n",
    "\n",
    "This problem is convex and it can be further updated by substituting in the Karush-Kuhn Tucker (KKT) conditons for optimality, they are:\n",
    "1. $\\nabla_b L = \\sum_{i=1}^n \\lambda_i y^i = 0$\n",
    "2. $\\nabla_w L = w + \\sum_{i=1}^n \\lambda_i y^i x^i = 0$\n",
    "3. $ \\lambda_i \\geq 0$\n",
    "4. $y^i((w^\\star)^T x^i + b) + 1 \\leq 0$\n",
    "5. $\\lambda_i \\left[ y^i((w^\\star)^T x^i + b) + 1 \\right] = 0$\n",
    "\n",
    "Then if we substitute these conditions into the problem, we may simplify the dual problem to read:\n",
    "\n",
    "$$\\max_{\\lambda \\geq 0} \\lambda^T \\lambda - \\frac{1}{2} \\lambda^T Q \\lambda,$$\n",
    "where $Q_{i,j} = y^i y^j (x^j)^T x^i$. This problem also has the constraints given by $\\lambda_i \\geq 0$ and $\\sum_{i=1}^n \\lambda_i y^i = 0$. If you are outside of the margin, this corresponds then to $\\lambda_i = 0$. One can use quadratic programming algorithms to solve this problem efficiently for a given $\\lambda$, the Lagrange multiplier. \n",
    "\n",
    "Once you have a $\\lambda$ value for a solution, we can find the optimal weights and biases as \n",
    "$$w^\\star = -\\sum_{i=1}^n \\lambda_i y^i x^i \\quad \\text{and} \\quad b^\\star = \\frac{-1 - y^i (w^T x^i)}{y^i}.$$\n",
    "\n",
    "This will result in a bias that depends on the index $i$ of a particular feature, $x^i$, so in the end, we will need to marginalize the bias by taking the mean over all $i$.\n"
   ]
  },
  {
   "cell_type": "code",
   "execution_count": 168,
   "metadata": {},
   "outputs": [
    {
     "data": {
      "text/plain": [
       "array([-1., -1., -1., -1., -1., -1.])"
      ]
     },
     "execution_count": 168,
     "metadata": {},
     "output_type": "execute_result"
    }
   ],
   "source": [
    "lam = 1;\n",
    "weights = -np.sum(lam * labels * features, 1)\n",
    "bias = (-1 - labels * np.dot(weights, features)) / labels\n",
    "labels * (np.dot(weights, features) + bias)\n",
    "# See now all constraints are met with equality"
   ]
  },
  {
   "cell_type": "code",
   "execution_count": 167,
   "metadata": {},
   "outputs": [
    {
     "name": "stdout",
     "output_type": "stream",
     "text": [
      "norm of weight vector:  0.0\n",
      "weights:  [0 0]  and biases:  [-1. -1. -1.  1.  1.  1.]\n",
      "average of bias:  0.0\n"
     ]
    }
   ],
   "source": [
    "# This is the objective value\n",
    "print('norm of weight vector: ', np.dot(weights, weights)/2)\n",
    "print('weights: ',weights, ' and biases: ',bias)\n",
    "print('average of bias: ', np.mean(bias))"
   ]
  },
  {
   "cell_type": "markdown",
   "metadata": {},
   "source": [
    "The weights are now equal and opposite, and so this results in the linear model $x_2 = x_1 + b$, where we have several different bias options. The average and sum of these biases is zero, so we have the model $x_2 = x_1$, which matches with our guess."
   ]
  },
  {
   "cell_type": "markdown",
   "metadata": {},
   "source": [
    "## Linear Discriminant Analysis (LDA)\n",
    "\n",
    "For LDA, we want to make sure that the data is separated by a hyperplane, such that when projected onto that hyperplane, the data is well separated and the covariance is small. We can formulate this projection problem as:\n",
    "$$w^\\star = \\text{argmax}_w \\frac{(w^T \\mu_1 - w^T \\mu_{-1})^2}{(n_1 w^T \\Sigma_1 w + n_{-1}w^T \\Sigma_{-1}w)},$$\n",
    "where $\\mu_1$ represents the mean of the features in category 1 and $\\Sigma_1$ is the covariance matrix of the elements in category 1.\n",
    "\n",
    "We define $S = n_1 \\Sigma_1 + n_{-1}\\Sigma_{-1}$, and to solve this problem there are a few options. We can compute the Cholesky decomposition of $S$ to find the solution to this problem. The problem can be reformulated as \n",
    "$$w^\\star = \\text{argmax}_w \\frac{[(\\mu_1 - \\mu_{-1})^T w]^2}{w^T S w}.$$\n",
    "\n",
    "Because $S$ is a covariance, it is symmetric positive definite and so it has the Cholesky factorization $S = R^TR$, where $R$ is an upper triangular matrix and it is invertible. We can once more reformulate this as a projection maximizing problem, \n",
    "$$w^\\star = \\text{argmax}_w  \\left[ \\frac{(R^{-T} m)^T v}{||v||} \\right]^2,$$ \n",
    "\n",
    "where $m = \\mu_1 - \\mu_{-1}$ and $v = Rw$. This problem has the solution $v = c(R^{-1})^T m \\implies w^\\star = c (R^T R)^{-1}m = cS^{-1}m$, thus this problem has been transformed into just a linear solve. We can then get the optimal bias as $$b^\\star = \\frac{1}{n} \\sum_{i=1}^n \\left[ y^i - (w^\\star)^Tx^i \\right]. $$\n"
   ]
  },
  {
   "cell_type": "code",
   "execution_count": 157,
   "metadata": {},
   "outputs": [
    {
     "name": "stdout",
     "output_type": "stream",
     "text": [
      "S =  [[2. 1.]\n",
      " [1. 2.]]\n",
      "m = mu_1 - mu_-1 =  [-1.66666667  1.66666667]\n"
     ]
    }
   ],
   "source": [
    "# We start by initializing some of the relevant variables\n",
    "n1 = np.sum(labels == 1); nmin1 = np.sum(labels == -1); \n",
    "# Use numpys covariance function to build the S matrix\n",
    "S = n1*np.cov(features[:,:3]) + nmin1*np.cov(features[:,3:])\n",
    "print('S = ',S)\n",
    "# Then we build the m vector using numpys mean\n",
    "mupos1 = np.mean(features[:,:3], 1)\n",
    "muneg1 = np.mean(features[:,3:], 1)\n",
    "print('m = mu_1 - mu_-1 = ', mupos1 - muneg1)"
   ]
  },
  {
   "cell_type": "markdown",
   "metadata": {},
   "source": [
    "Then to solve this problem, we simply need to solve the linear system, $w^\\star = cS^{-1}[\\mu_1 - \\mu_{-1}]$, where $c$ is a scalar, often taken to be 1."
   ]
  },
  {
   "cell_type": "code",
   "execution_count": 158,
   "metadata": {},
   "outputs": [],
   "source": [
    "# The scalar c depends on your problem, here we choose 1, although it won't matter\n",
    "c = 1\n",
    "# Here we just do a linear solve instead of directly computing the Cholesky factorization\n",
    "wstar = c * np.linalg.solve(S, mupos1 - muneg1)\n",
    "bstar = np.mean(labels - np.dot(wstar, features) )"
   ]
  },
  {
   "cell_type": "code",
   "execution_count": 159,
   "metadata": {},
   "outputs": [
    {
     "name": "stdout",
     "output_type": "stream",
     "text": [
      "w =  [-1.66666667  1.66666667]  and b =  -1.4802973661668753e-16\n"
     ]
    }
   ],
   "source": [
    "print('w = ', wstar, ' and b = ', bstar)\n",
    "# This means that the line/hyperplane is essentially x1 = x2, which is the same as my guess"
   ]
  },
  {
   "cell_type": "markdown",
   "metadata": {},
   "source": [
    "We can see again that our separating hyperplane is given by $x_1 = x_2$, which matches with our guess for the problem. "
   ]
  },
  {
   "cell_type": "code",
   "execution_count": null,
   "metadata": {},
   "outputs": [],
   "source": []
  }
 ],
 "metadata": {
  "kernelspec": {
   "display_name": "Python 3",
   "language": "python",
   "name": "python3"
  },
  "language_info": {
   "codemirror_mode": {
    "name": "ipython",
    "version": 3
   },
   "file_extension": ".py",
   "mimetype": "text/x-python",
   "name": "python",
   "nbconvert_exporter": "python",
   "pygments_lexer": "ipython3",
   "version": "3.7.6"
  }
 },
 "nbformat": 4,
 "nbformat_minor": 4
}
